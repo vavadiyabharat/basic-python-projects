{
 "cells": [
  {
   "cell_type": "code",
   "execution_count": 10,
   "id": "e304e436-8a29-413d-9a11-0fe1e440143f",
   "metadata": {},
   "outputs": [],
   "source": [
    "import random"
   ]
  },
  {
   "cell_type": "code",
   "execution_count": null,
   "id": "8768a03f-c672-4329-82ba-b08b5624f45a",
   "metadata": {},
   "outputs": [
    {
     "name": "stdin",
     "output_type": "stream",
     "text": [
      " Roll the dice? (y/n):  d\n"
     ]
    },
    {
     "name": "stdout",
     "output_type": "stream",
     "text": [
      "Please enter valid choice!!!\n"
     ]
    },
    {
     "name": "stdin",
     "output_type": "stream",
     "text": [
      " Roll the dice? (y/n):  y\n"
     ]
    },
    {
     "name": "stdout",
     "output_type": "stream",
     "text": [
      "(5,3)\n"
     ]
    },
    {
     "name": "stdin",
     "output_type": "stream",
     "text": [
      " Roll the dice? (y/n):  y\n"
     ]
    },
    {
     "name": "stdout",
     "output_type": "stream",
     "text": [
      "(4,2)\n"
     ]
    },
    {
     "name": "stdin",
     "output_type": "stream",
     "text": [
      " Roll the dice? (y/n):  y\n"
     ]
    },
    {
     "name": "stdout",
     "output_type": "stream",
     "text": [
      "(4,4)\n"
     ]
    },
    {
     "name": "stdin",
     "output_type": "stream",
     "text": [
      " Roll the dice? (y/n):  y\n"
     ]
    },
    {
     "name": "stdout",
     "output_type": "stream",
     "text": [
      "(2,1)\n"
     ]
    }
   ],
   "source": [
    "while True:\n",
    "    choice = input(\" Roll the dice? (y/n): \").lower()\n",
    "    if choice == \"y\":\n",
    "        dice1 = random.randint(1,6)\n",
    "        dice2 = random.randint(1,6)\n",
    "        print(f'({dice1},{dice2})')\n",
    "        \n",
    "    elif choice == \"n\":\n",
    "        print(\"Thank you for playing\")\n",
    "        break\n",
    "        \n",
    "    else:\n",
    "        print(\"Please enter valid choice!!!\")"
   ]
  },
  {
   "cell_type": "code",
   "execution_count": null,
   "id": "a3d71ec3-dfcc-4390-a58a-e61eb249ed14",
   "metadata": {},
   "outputs": [],
   "source": []
  }
 ],
 "metadata": {
  "kernelspec": {
   "display_name": "Python 3 (ipykernel)",
   "language": "python",
   "name": "python3"
  },
  "language_info": {
   "codemirror_mode": {
    "name": "ipython",
    "version": 3
   },
   "file_extension": ".py",
   "mimetype": "text/x-python",
   "name": "python",
   "nbconvert_exporter": "python",
   "pygments_lexer": "ipython3",
   "version": "3.13.1"
  }
 },
 "nbformat": 4,
 "nbformat_minor": 5
}
